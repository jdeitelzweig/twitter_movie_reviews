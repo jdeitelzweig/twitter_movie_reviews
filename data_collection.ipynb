{
 "cells": [
  {
   "cell_type": "code",
   "execution_count": 41,
   "metadata": {},
   "outputs": [],
   "source": [
    "import datetime\n",
    "from twython import Twython\n",
    "import csv\n",
    "import numpy as np\n",
    "import json\n",
    "from matplotlib import pyplot as plt\n",
    "import textblob\n",
    "import botometer"
   ]
  },
  {
   "cell_type": "code",
   "execution_count": 60,
   "metadata": {},
   "outputs": [],
   "source": [
    "# returns list of lists from csv file file\n",
    "def fromCSV(file='movie_ratings.csv'):\n",
    "    with open(file, newline='') as csvfile:\n",
    "        names = list(csv.reader(csvfile))\n",
    "    return names\n",
    "\n",
    "# writes a list of lists data to file\n",
    "def toCSV(file, data):\n",
    "    with open(file, \"w\", newline=\"\") as f:\n",
    "        writer = csv.writer(f)\n",
    "        writer.writerows(data)"
   ]
  },
  {
   "cell_type": "code",
   "execution_count": 61,
   "metadata": {},
   "outputs": [],
   "source": [
    "def toJSON(lines, file='movie_tweets.json'):\n",
    "    def default(obj):\n",
    "        if type(obj).__module__ == np.__name__:\n",
    "            if isinstance(obj, np.ndarray):\n",
    "                return obj.tolist()\n",
    "            else:\n",
    "                return obj.item()\n",
    "        raise TypeError('Unknown type:', type(obj))\n",
    "    \n",
    "    with open(file, 'w') as fp:\n",
    "        json.dump(lines, fp, default=default)\n",
    "        \n",
    "def fromJSON(file):\n",
    "    with open(file) as handle:\n",
    "        dictdump = json.loads(handle.read())\n",
    "        \n",
    "    return dictdump"
   ]
  },
  {
   "cell_type": "code",
   "execution_count": 62,
   "metadata": {},
   "outputs": [],
   "source": [
    "# gets authenticated Twython twiter object with apikey and apisecret\n",
    "def getTwitter(apiKey, apiSecret):\n",
    "    t = Twython(apiKey, apiSecret, oauth_version=2)\n",
    "    t = Twython(apiKey, access_token=t.obtain_access_token())\n",
    "    return t"
   ]
  },
  {
   "cell_type": "code",
   "execution_count": 63,
   "metadata": {},
   "outputs": [],
   "source": [
    "# searches for tweets with query from fromDate to toDate with full (True) or 30 day endpoint (False)\n",
    "# env should be name of twitter developer environment name\n",
    "def getTweets(twitter, query, toDate=None, fromDate=None, maxResults=10, full=False, env=\"mov\"):\n",
    "    params = {\"query\":query + \" lang:en\", \"maxResults\":maxResults}\n",
    "    \n",
    "    if toDate:\n",
    "        params[\"toDate\"] = toDate.strftime('%Y%m%d%H%M')\n",
    "    if fromDate:\n",
    "        params[\"fromDate\"] = fromDate.strftime('%Y%m%d%H%M')\n",
    "\n",
    "    if full:\n",
    "        return twitter.get('https://api.twitter.com/1.1/tweets/search/fullarchive/'+env+'.json', \n",
    "                           params=params)['results']\n",
    "    else:\n",
    "        return twitter.get('https://api.twitter.com/1.1/tweets/search/30day/'+env+'.json', \n",
    "                           params=params)['results']"
   ]
  },
  {
   "cell_type": "code",
   "execution_count": 64,
   "metadata": {},
   "outputs": [],
   "source": [
    "# gets dictionary of movie names : tweets about movie from movie queries and names\n",
    "def getMoviesTweets(t, queries, info):\n",
    "    movie_tweets = {}\n",
    "    \n",
    "    for i, movie in enumerate(queries):\n",
    "        tweets = t.search(q=movie, count=100, lang=\"en\")[\"statuses\"]\n",
    "        movie_tweets[info[i+1][0]] = tweets\n",
    "        \n",
    "    return movie_tweets"
   ]
  },
  {
   "cell_type": "code",
   "execution_count": 65,
   "metadata": {},
   "outputs": [],
   "source": [
    "# gets dictionary of movie tweets at least endDates old\n",
    "def getOldMoviesTweets(t, queries, info, endDates):\n",
    "    old_tweets = {}\n",
    "\n",
    "    for i, query in enumerate(queries):\n",
    "        date = datetime.datetime.strptime(endDates[i], \"%Y-%m-%d\")\n",
    "        tweets = getTweets(t, query, toDate=date, maxResults=100, full=True, env=\"mov\")\n",
    "        old_tweets[data[i+1][0]] = tweets\n",
    "    \n",
    "    return old_tweets"
   ]
  },
  {
   "cell_type": "code",
   "execution_count": 66,
   "metadata": {},
   "outputs": [],
   "source": [
    "# from list of tweets returns list of polarities on [-1, 1], negative to positive polarity\n",
    "def getSentiment(tweets, analyzer=textblob.sentiments.NaiveBayesAnalyzer()):\n",
    "    sent = []\n",
    "    for tweet in tweets:\n",
    "        sent.append(textblob.TextBlob(tweet[\"text\"], analyzer=sAnalyzer).sentiment[2])"
   ]
  },
  {
   "cell_type": "code",
   "execution_count": 78,
   "metadata": {},
   "outputs": [],
   "source": [
    "# from list of tweets returns non-bot tweets -- takes forever\n",
    "def filterBotTweets(tweets):\n",
    "    rapidapi_key = RAPID_KEY\n",
    "    botometer_api_url = 'https://botometer-pro.p.rapidapi.com'\n",
    "    twitter_app_auth = {\n",
    "        'consumer_key': API_KEY,\n",
    "        'consumer_secret': API_SECRET,\n",
    "        'access_token': ACCESS_TOKEN,\n",
    "        'access_token_secret': ACCESS_SECRET,\n",
    "      }\n",
    "    bom = botometer.Botometer(botometer_api_url=botometer_api_url, wait_on_ratelimit=True, \n",
    "                              rapidapi_key=rapidapi_key, **twitter_app_auth)\n",
    "\n",
    "    accounts = []\n",
    "    for tweet in tweets:\n",
    "        accounts.append('@' + tweet[\"user\"][\"screen_name\"])\n",
    "        \n",
    "    results = np.array(list(bom.check_accounts_in(accounts)))\n",
    "\n",
    "    mask = []\n",
    "    for _, res in results:\n",
    "        if (len(res) > 2) and (res[\"cap\"][\"english\"] > 0.5):\n",
    "            mask.append(False)\n",
    "        else:\n",
    "            mask.append(True)\n",
    "            \n",
    "            \n",
    "    return np.array(tweets)[mask]"
   ]
  },
  {
   "cell_type": "code",
   "execution_count": null,
   "metadata": {},
   "outputs": [],
   "source": [
    "# gets a week's worth of tweets in a list starting at startDay (a datetime object) with query query\n",
    "def getWeekTweets(twitter, query, startDay):\n",
    "    weekTweets = []\n",
    "    endDay = startDay.replace(hour=23, minute=59)\n",
    "\n",
    "    for i in range(7):\n",
    "        weekTweets.extend(getTweets(twitter, query, toDate=endDay, fromDate=startDay, maxResults=100))\n",
    "        \n",
    "        startDay += datetime.timedelta(days=1)\n",
    "        endDay += datetime.timedelta(days=1)\n",
    "        \n",
    "        time.sleep(4)\n",
    "\n",
    "    return weekTweets"
   ]
  },
  {
   "cell_type": "code",
   "execution_count": 86,
   "metadata": {},
   "outputs": [],
   "source": [
    "# gets dictionary of movie tweets spanning a week starting at startDay\n",
    "def getMoviesWeekTweets(t, queries, info, startDay):\n",
    "    movie_tweets = {}\n",
    "    \n",
    "    for i, movie in enumerate(queries):\n",
    "        tweets = getWeekTweets(t, movie, startDay)\n",
    "        movie_tweets[info[i+1][0]] = tweets\n",
    "        time.sleep(4)\n",
    "        \n",
    "    return movie_tweets"
   ]
  },
  {
   "cell_type": "code",
   "execution_count": null,
   "metadata": {},
   "outputs": [
    {
     "name": "stdout",
     "output_type": "stream",
     "text": [
      "2020-04-29 20:38:42.420921 Queen & Slim\n"
     ]
    }
   ],
   "source": [
    "for key in rKeys:\n",
    "    fTweets[key] = filterBotTweets(tweets[key])\n",
    "    print(datetime.datetime.now(), key)"
   ]
  },
  {
   "cell_type": "code",
   "execution_count": 359,
   "metadata": {},
   "outputs": [
    {
     "data": {
      "text/plain": [
       "(array([11.,  5., 30., 26., 11.,  7.,  1.,  4.,  3.,  2.]),\n",
       " array([0.01633043, 0.1105329 , 0.20473537, 0.29893784, 0.39314031,\n",
       "        0.48734278, 0.58154525, 0.67574772, 0.76995018, 0.86415265,\n",
       "        0.95835512]),\n",
       " <a list of 10 Patch objects>)"
      ]
     },
     "execution_count": 359,
     "metadata": {},
     "output_type": "execute_result"
    },
    {
     "data": {
      "image/png": "[encoded data removed]",
      "text/plain": [
       "<Figure size 432x288 with 1 Axes>"
      ]
     },
     "metadata": {
      "needs_background": "light"
     },
     "output_type": "display_data"
    }
   ],
   "source": [
    "plt.hist(koS, alpha=0.5)\n",
    "plt.hist(cakS, alpha=0.5)"
   ]
  }
 ],
 "metadata": {
  "kernelspec": {
   "display_name": "Python 3",
   "language": "python",
   "name": "python3"
  },
  "language_info": {
   "codemirror_mode": {
    "name": "ipython",
    "version": 3
   },
   "file_extension": ".py",
   "mimetype": "text/x-python",
   "name": "python",
   "nbconvert_exporter": "python",
   "pygments_lexer": "ipython3",
   "version": "3.7.4"
  }
 },
 "nbformat": 4,
 "nbformat_minor": 2
}
