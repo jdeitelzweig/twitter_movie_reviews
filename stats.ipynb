{
 "cells": [
  {
   "cell_type": "code",
   "execution_count": 44,
   "metadata": {},
   "outputs": [],
   "source": [
    "import csv\n",
    "import json\n",
    "import pickle\n",
    "import numpy as np\n",
    "from scipy.stats import pearsonr, ttest_rel\n",
    "from sklearn.feature_extraction.text import CountVectorizer\n",
    "from sklearn.preprocessing import maxabs_scale\n",
    "from sklearn.linear_model import LogisticRegression\n",
    "import matplotlib.pyplot as plt\n",
    "%matplotlib inline"
   ]
  },
  {
   "cell_type": "code",
   "execution_count": 29,
   "metadata": {},
   "outputs": [],
   "source": [
    "# Preprocess data\n",
    "def preprocess(tweets):\n",
    "    REPLACE_NO_SPACE = re.compile(\"[.;:!\\'?,\\\"()\\[\\]]\")\n",
    "    REPLACE_USER = re.compile(\"@.+?\\s\")\n",
    "    tweets = [REPLACE_NO_SPACE.sub(\"\", line.lower()) for line in tweets]\n",
    "    tweets = [REPLACE_USER.sub(\"@_ \", line.lower()) for line in tweets]\n",
    "    return tweets"
   ]
  },
  {
   "cell_type": "code",
   "execution_count": 30,
   "metadata": {},
   "outputs": [],
   "source": [
    "# Get features for a tweet using count vectorizer\n",
    "def get_feats(tweets):\n",
    "    feats = cv.transform(tweets)\n",
    "    feats = maxabs_scale(feats)\n",
    "    return feats"
   ]
  },
  {
   "cell_type": "code",
   "execution_count": 31,
   "metadata": {},
   "outputs": [],
   "source": [
    "# Load in model trained on large set of tweets\n",
    "cv = pickle.load(open(\"vectorizer.p\", \"rb\"))\n",
    "final_model = pickle.load(open(\"model.p\", \"rb\"))"
   ]
  },
  {
   "cell_type": "code",
   "execution_count": 47,
   "metadata": {},
   "outputs": [],
   "source": [
    "# Load movie data\n",
    "movie_tweets = json.load(open(\"movie_data/movie_tweets_week.json\", \"r\"))\n",
    "movie_tweets_no_bots = json.load(open(\"movie_data/movie_tweets_week_no_bots.json\", \"r\"))"
   ]
  },
  {
   "cell_type": "code",
   "execution_count": 90,
   "metadata": {},
   "outputs": [],
   "source": [
    "movie_scores = {}\n",
    "movie_scores_bots = []\n",
    "movie_scores_no_bots = []"
   ]
  },
  {
   "cell_type": "code",
   "execution_count": 91,
   "metadata": {},
   "outputs": [],
   "source": [
    "# Get average sentiment for each movie with bots filtered out\n",
    "for movie, data in sorted(movie_tweets_no_bots.items(), key=lambda x:x[0]):\n",
    "    tweets = [tweet[\"text\"] for tweet in data]\n",
    "    feats = get_feats(tweets)\n",
    "    preds = final_model.predict(feats)\n",
    "    # Weight by likes\n",
    "    likes = [tweet[\"favorite_count\"] for tweet in data]\n",
    "    preds = np.multiply(preds, likes)\n",
    "    preds = np.divide(preds, sum(likes))\n",
    "    movie_scores_no_bots.append(np.sum(preds, axis=0))"
   ]
  },
  {
   "cell_type": "code",
   "execution_count": 92,
   "metadata": {},
   "outputs": [
    {
     "name": "stdout",
     "output_type": "stream",
     "text": [
      "Ad Astra 0.9240174672489082\n",
      "Angel Has Fallen 0.6033138401559455\n",
      "Avengers: Endgame 0.8469306404464523\n",
      "Birds of Prey 0.7113070011866418\n",
      "Coffee & Kareem 0.9378612716763005\n",
      "Detective Pikachu 0.7338949454905848\n",
      "Frozen II 0.5789748953974896\n",
      "Gemini Man 0.9228159457167091\n",
      "Hobbs & Shaw 0.9247491638795986\n",
      "Jojo Rabbit 0.8427947598253274\n",
      "Klaus 0.6141429669485011\n",
      "Knives Out 0.5727163461538461\n",
      "Marriage Story 0.912130177514793\n",
      "Queen & Slim 0.46828046744574287\n",
      "Spies in Disguise 0.7822736030828517\n",
      "The Irishman 0.6930299747201156\n",
      "The Two Popes 0.8826446280991735\n",
      "Trolls World Tour 0.8087248322147651\n",
      "Uncut Gems 0.8093994778067886\n",
      "Vivarium 0.8226018396846255\n"
     ]
    }
   ],
   "source": [
    "# Get average sentiment for each movie with bots included\n",
    "for movie, data in sorted(movie_tweets.items(), key=lambda x:x[0]):\n",
    "    tweets = [tweet[\"text\"] for tweet in data]\n",
    "    feats = get_feats(tweets)\n",
    "    preds = final_model.predict(feats)\n",
    "    # Weight by likes\n",
    "    likes = [tweet[\"favorite_count\"] for tweet in data]\n",
    "    preds = np.multiply(preds, likes)\n",
    "    preds = np.divide(preds, sum(likes))\n",
    "    movie_scores[movie] = [np.sum(preds, axis=0), None, None]\n",
    "    movie_scores_bots.append(np.sum(preds, axis=0))\n",
    "    print(movie, np.sum(preds, axis=0))"
   ]
  },
  {
   "cell_type": "code",
   "execution_count": 93,
   "metadata": {},
   "outputs": [
    {
     "name": "stdout",
     "output_type": "stream",
     "text": [
      "T-stat: -2.0823849344330654, p-value: 0.05106224348645614\n",
      "Mean with bots:  0.769630212234758\n",
      "Mean with no bots:  0.7690090248041608\n"
     ]
    }
   ],
   "source": [
    "# Compare bots with no bots\n",
    "tstat, pval = ttest_rel(movie_scores_no_bots, movie_scores_bots)\n",
    "print(\"T-stat: {}, p-value: {}\".format(tstat, pval))\n",
    "print(\"Mean with bots: \", np.mean(movie_scores_bots))\n",
    "print(\"Mean with no bots: \", np.mean(movie_scores_no_bots))"
   ]
  },
  {
   "cell_type": "code",
   "execution_count": 94,
   "metadata": {},
   "outputs": [],
   "source": [
    "# Load in critic and audience scores\n",
    "with open(\"movie_data/movie_info.csv\", \"r\") as review_file:\n",
    "    review_reader = csv.reader(review_file)\n",
    "    next(review_reader)\n",
    "    for row in review_reader:\n",
    "        movie_scores[row[0]][1] = int(row[5])/100\n",
    "        movie_scores[row[0]][2] = int(row[4])/100"
   ]
  },
  {
   "cell_type": "code",
   "execution_count": 95,
   "metadata": {},
   "outputs": [
    {
     "name": "stdout",
     "output_type": "stream",
     "text": [
      "Correlation =  -0.4726906607753055\n",
      "p-value     =  0.035316558796699336\n"
     ]
    },
    {
     "data": {
      "image/png": "[encoded data removed]",
      "text/plain": [
       "<Figure size 432x288 with 1 Axes>"
      ]
     },
     "metadata": {
      "needs_background": "light"
     },
     "output_type": "display_data"
    }
   ],
   "source": [
    "# Get correlation with audience score\n",
    "x = [score[1] for score in movie_scores.values()]\n",
    "y = [score[0] for score in movie_scores.values()]\n",
    "corr, p = pearsonr(x, y)\n",
    "print(\"Correlation = \", corr)\n",
    "print(\"p-value     = \", p)\n",
    "plt.scatter(x, y)\n",
    "plt.xlabel(\"Audience Score\")\n",
    "plt.ylabel(\"Tweet Score\")\n",
    "plt.show()"
   ]
  },
  {
   "cell_type": "code",
   "execution_count": 96,
   "metadata": {},
   "outputs": [
    {
     "name": "stdout",
     "output_type": "stream",
     "text": [
      "Correlation =  -0.2604838847382356\n",
      "p-value     =  0.267345210435997\n"
     ]
    },
    {
     "data": {
      "image/png": "[encoded data removed]",
      "text/plain": [
       "<Figure size 432x288 with 1 Axes>"
      ]
     },
     "metadata": {
      "needs_background": "light"
     },
     "output_type": "display_data"
    }
   ],
   "source": [
    "# Get correlation with critic score\n",
    "x = [score[2] for score in movie_scores.values()]\n",
    "y = [score[0] for score in movie_scores.values()]\n",
    "corr, p = pearsonr(x, y)\n",
    "print(\"Correlation = \", corr)\n",
    "print(\"p-value     = \", p)\n",
    "plt.scatter(x, y)\n",
    "plt.xlabel(\"Critic Score\")\n",
    "plt.ylabel(\"Tweet Score\")\n",
    "plt.show()"
   ]
  },
  {
   "cell_type": "code",
   "execution_count": null,
   "metadata": {},
   "outputs": [],
   "source": []
  }
 ],
 "metadata": {
  "kernelspec": {
   "display_name": "Python 3",
   "language": "python",
   "name": "python3"
  },
  "language_info": {
   "codemirror_mode": {
    "name": "ipython",
    "version": 3
   },
   "file_extension": ".py",
   "mimetype": "text/x-python",
   "name": "python",
   "nbconvert_exporter": "python",
   "pygments_lexer": "ipython3",
   "version": "3.7.0"
  }
 },
 "nbformat": 4,
 "nbformat_minor": 4
}
