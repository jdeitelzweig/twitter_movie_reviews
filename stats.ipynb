{
 "cells": [
  {
   "cell_type": "code",
   "execution_count": 34,
   "metadata": {},
   "outputs": [],
   "source": [
    "import csv\n",
    "import json\n",
    "import pickle\n",
    "import numpy as np\n",
    "from scipy.stats import pearsonr, wilcoxon, ks_2samp\n",
    "from sklearn.feature_extraction.text import CountVectorizer\n",
    "from sklearn.preprocessing import maxabs_scale\n",
    "from sklearn.linear_model import LogisticRegression\n",
    "import matplotlib.pyplot as plt\n",
    "from collections import defaultdict\n",
    "%matplotlib inline"
   ]
  },
  {
   "cell_type": "code",
   "execution_count": 2,
   "metadata": {},
   "outputs": [],
   "source": [
    "# Preprocess data\n",
    "def preprocess(tweets):\n",
    "    REPLACE_NO_SPACE = re.compile(\"[.;:!\\'?,\\\"()\\[\\]]\")\n",
    "    REPLACE_USER = re.compile(\"@.+?\\s\")\n",
    "    tweets = [REPLACE_NO_SPACE.sub(\"\", line.lower()) for line in tweets]\n",
    "    tweets = [REPLACE_USER.sub(\"@_ \", line.lower()) for line in tweets]\n",
    "    return tweets"
   ]
  },
  {
   "cell_type": "code",
   "execution_count": 3,
   "metadata": {},
   "outputs": [],
   "source": [
    "# Get features for a tweet using count vectorizer\n",
    "def get_feats(tweets):\n",
    "    feats = cv.transform(tweets)\n",
    "    feats = maxabs_scale(feats)\n",
    "    return feats"
   ]
  },
  {
   "cell_type": "code",
   "execution_count": 4,
   "metadata": {},
   "outputs": [],
   "source": [
    "def getTweetsDiff(tweets1, tweets2):\n",
    "    diffTweets = defaultdict(list)\n",
    "    \n",
    "    for key in tweets1:\n",
    "        for tweet in tweets1[key]:\n",
    "            if tweet not in tweets2[key]:\n",
    "                diffTweets[key].append(tweet)\n",
    "        \n",
    "    return diffTweets"
   ]
  },
  {
   "cell_type": "code",
   "execution_count": 5,
   "metadata": {},
   "outputs": [],
   "source": [
    "# Load in model trained on large set of tweets\n",
    "cv = pickle.load(open(\"vectorizer.p\", \"rb\"))"
   ]
  },
  {
   "cell_type": "code",
   "execution_count": 6,
   "metadata": {},
   "outputs": [],
   "source": [
    "final_model = pickle.load(open(\"model.p\", \"rb\"))"
   ]
  },
  {
   "cell_type": "code",
   "execution_count": 7,
   "metadata": {},
   "outputs": [],
   "source": [
    "# Load movie data\n",
    "movie_tweets = json.load(open(\"movie_data/movie_tweets_week.json\", \"r\"))\n",
    "movie_tweets_no_bots = json.load(open(\"movie_data/movie_tweets_week_no_bots.json\", \"r\"))"
   ]
  },
  {
   "cell_type": "code",
   "execution_count": 48,
   "metadata": {},
   "outputs": [],
   "source": [
    "movie_scores = {}\n",
    "movie_scores_bots = []\n",
    "movie_scores_no_bots = []"
   ]
  },
  {
   "cell_type": "code",
   "execution_count": 49,
   "metadata": {},
   "outputs": [],
   "source": [
    "# Get average sentiment for each movie with bots filtered out\n",
    "for movie, data in sorted(movie_tweets_no_bots.items(), key=lambda x:x[0]):\n",
    "    tweets = [tweet[\"text\"] for tweet in data]\n",
    "    feats = get_feats(tweets)\n",
    "    preds = final_model.predict(feats)\n",
    "    \n",
    "    # Weight by likes\n",
    "    likes = [tweet[\"favorite_count\"] for tweet in data]\n",
    "    preds = np.multiply(preds, likes)\n",
    "    preds = np.divide(preds, sum(likes))\n",
    "    \n",
    "    movie_scores_no_bots.append(np.sum(preds, axis=0))"
   ]
  },
  {
   "cell_type": "code",
   "execution_count": 50,
   "metadata": {},
   "outputs": [],
   "source": [
    "# Get average sentiment for each movie with bots included\n",
    "for movie, data in sorted(movie_tweets.items(), key=lambda x:x[0]):\n",
    "    tweets = [tweet[\"text\"] for tweet in data]\n",
    "    feats = get_feats(tweets)\n",
    "    preds = final_model.predict(feats)\n",
    "    \n",
    "    # Weight by likes\n",
    "    likes = [tweet[\"favorite_count\"] for tweet in data]\n",
    "    preds = np.multiply(preds, likes)\n",
    "    preds = np.divide(preds, sum(likes))\n",
    "    \n",
    "    movie_scores[movie] = [np.sum(preds, axis=0), None, None]\n",
    "    movie_scores_bots.append(np.sum(preds, axis=0))"
   ]
  },
  {
   "cell_type": "code",
   "execution_count": 51,
   "metadata": {},
   "outputs": [
    {
     "name": "stdout",
     "output_type": "stream",
     "text": [
      "stat: 5.0, p-value: 0.00018876804289503734\n",
      "Mean with bots:  0.8120888297152143\n",
      "Mean with no bots:  0.8100700277248732\n"
     ]
    }
   ],
   "source": [
    "# Compare bots with no bots\n",
    "tstat, tpval = wilcoxon(movie_scores_no_bots, movie_scores_bots)\n",
    "print(\"stat: {}, p-value: {}\".format(tstat, tpval))\n",
    "print(\"Mean with bots: \", np.mean(movie_scores_bots))\n",
    "print(\"Mean with no bots: \", np.mean(movie_scores_no_bots))"
   ]
  },
  {
   "cell_type": "code",
   "execution_count": 12,
   "metadata": {},
   "outputs": [],
   "source": [
    "# Load in critic and audience scores\n",
    "with open(\"movie_data/movie_info.csv\", \"r\") as review_file:\n",
    "    review_reader = csv.reader(review_file)\n",
    "    next(review_reader)\n",
    "    for row in review_reader:\n",
    "        movie_scores[row[0]][1] = int(row[5])/100\n",
    "        movie_scores[row[0]][2] = int(row[4])/100"
   ]
  },
  {
   "cell_type": "code",
   "execution_count": 13,
   "metadata": {},
   "outputs": [
    {
     "name": "stdout",
     "output_type": "stream",
     "text": [
      "Correlation =  -0.3225134446134798\n",
      "p-value     =  0.1654893281231586\n"
     ]
    },
    {
     "data": {
      "image/png": "[encoded data removed]",
      "text/plain": [
       "<Figure size 432x288 with 1 Axes>"
      ]
     },
     "metadata": {
      "needs_background": "light"
     },
     "output_type": "display_data"
    }
   ],
   "source": [
    "# Get correlation with audience score\n",
    "x = [score[1] for score in movie_scores.values()]\n",
    "y = [score[0] for score in movie_scores.values()]\n",
    "corr, p = pearsonr(x, y)\n",
    "print(\"Correlation = \", corr)\n",
    "print(\"p-value     = \", p)\n",
    "plt.scatter(x, y)\n",
    "plt.xlabel(\"Audience Score\")\n",
    "plt.ylabel(\"Tweet Score\")\n",
    "plt.show()"
   ]
  },
  {
   "cell_type": "code",
   "execution_count": 14,
   "metadata": {},
   "outputs": [
    {
     "name": "stdout",
     "output_type": "stream",
     "text": [
      "Correlation =  -0.2720994350315084\n",
      "p-value     =  0.2458150223037611\n"
     ]
    },
    {
     "data": {
      "image/png": "[encoded data removed]",
      "text/plain": [
       "<Figure size 432x288 with 1 Axes>"
      ]
     },
     "metadata": {
      "needs_background": "light"
     },
     "output_type": "display_data"
    }
   ],
   "source": [
    "# Get correlation with critic score\n",
    "x = [score[2] for score in movie_scores.values()]\n",
    "y = [score[0] for score in movie_scores.values()]\n",
    "corr, p = pearsonr(x, y)\n",
    "print(\"Correlation = \", corr)\n",
    "print(\"p-value     = \", p)\n",
    "plt.scatter(x, y)\n",
    "plt.xlabel(\"Critic Score\")\n",
    "plt.ylabel(\"Tweet Score\")\n",
    "plt.show()"
   ]
  },
  {
   "cell_type": "code",
   "execution_count": 191,
   "metadata": {
    "scrolled": false
   },
   "outputs": [
    {
     "name": "stdout",
     "output_type": "stream",
     "text": [
      "18 18\n",
      "3 3\n",
      "13 13\n",
      "13 13\n",
      "26 26\n",
      "17 17\n",
      "12 12\n",
      "12 12\n",
      "24 24\n",
      "17 17\n",
      "4 4\n",
      "15 15\n",
      "10 10\n",
      "4 4\n",
      "14 14\n",
      "19 19\n",
      "28 28\n",
      "11 11\n",
      "8 8\n",
      "8 8\n"
     ]
    }
   ],
   "source": [
    "# gets tweets from bots only\n",
    "movie_tweets_only_bots = getTweetsDiff(movie_tweets, movie_tweets_no_bots)\n",
    "for movie in movie_scores_only_bots:\n",
    "    print(len(movie_scores_only_bots[movie]), len(movie_tweets[movie])-len(movie_tweets_no_bots[movie]))"
   ]
  },
  {
   "cell_type": "code",
   "execution_count": 184,
   "metadata": {},
   "outputs": [],
   "source": [
    "tweet_scores_no_bots = []\n",
    "tweet_scores_bots_only = []"
   ]
  },
  {
   "cell_type": "code",
   "execution_count": 185,
   "metadata": {},
   "outputs": [],
   "source": [
    "# Get sentiment per tweet for each movie with bots filtered out\n",
    "for movie, data in sorted(movie_tweets_no_bots.items(), key=lambda x:x[0]):\n",
    "    tweets = [tweet[\"text\"] for tweet in data]\n",
    "    feats = get_feats(tweets)\n",
    "    preds = final_model.predict(feats)\n",
    "    \n",
    "    # Weight by likes\n",
    "    likes = np.array([tweet[\"retweet_count\"] for tweet in data])+1\n",
    "    preds = np.multiply(preds, likes)\n",
    "    preds = np.divide(preds, sum(likes))\n",
    "    \n",
    "    tweet_scores_no_bots.append(preds)"
   ]
  },
  {
   "cell_type": "code",
   "execution_count": 186,
   "metadata": {},
   "outputs": [],
   "source": [
    "# Get sentiment per tweet for each movie with bots only\n",
    "for movie, data in sorted(movie_tweets_only_bots.items(), key=lambda x:x[0]):\n",
    "    tweets = [tweet[\"text\"] for tweet in data]\n",
    "    feats = get_feats(tweets)\n",
    "    preds = final_model.predict(feats)\n",
    "\n",
    "    # Weight by likes\n",
    "    likes = np.array([tweet[\"retweet_count\"] for tweet in data])+1\n",
    "    preds = np.multiply(preds, likes)\n",
    "    preds = np.divide(preds, sum(likes))\n",
    "    tweet_scores_bots_only.append(preds)"
   ]
  },
  {
   "cell_type": "code",
   "execution_count": 187,
   "metadata": {},
   "outputs": [
    {
     "name": "stdout",
     "output_type": "stream",
     "text": [
      "0.06540886227254249\n",
      "0.05806418984682092\n",
      "0.043968343752086365\n",
      "0.06828902166017696\n",
      "0.08959199683067967\n",
      "0.0427230013244938\n",
      "0.054326011878042056\n",
      "0.33201187249967734\n",
      "0.0356590155055055\n",
      "0.06435065875948291\n",
      "0.06899158205328473\n",
      "0.12389265386574536\n",
      "0.05989751407651391\n",
      "0.11438141469670635\n",
      "0.03856728210246174\n",
      "0.07031402256792428\n",
      "0.24788486823300748\n",
      "0.0332432977490592\n",
      "0.24881264777837003\n",
      "0.05763027325649269\n"
     ]
    }
   ],
   "source": [
    "for noBots, botsOnly in zip(tweet_scores_no_bots, tweet_scores_bots_only):\n",
    "    ksstat, kspval = ks_2samp(noBots, botsOnly)\n",
    "\n",
    "    #print(\"KS-stat: {}, p-value: {}\".format(ksstat, kspval))\n",
    "    print(np.average(botsOnly)- np.average(noBots))"
   ]
  }
 ],
 "metadata": {
  "kernelspec": {
   "display_name": "Python 3",
   "language": "python",
   "name": "python3"
  },
  "language_info": {
   "codemirror_mode": {
    "name": "ipython",
    "version": 3
   },
   "file_extension": ".py",
   "mimetype": "text/x-python",
   "name": "python",
   "nbconvert_exporter": "python",
   "pygments_lexer": "ipython3",
   "version": "3.7.0"
  }
 },
 "nbformat": 4,
 "nbformat_minor": 4
}
