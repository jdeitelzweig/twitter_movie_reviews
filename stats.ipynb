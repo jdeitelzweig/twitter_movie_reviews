{
 "cells": [
  {
   "cell_type": "code",
   "execution_count": 25,
   "metadata": {},
   "outputs": [],
   "source": [
    "import csv\n",
    "import json\n",
    "import pickle\n",
    "import numpy as np\n",
    "from scipy.stats import pearsonr\n",
    "from sklearn.feature_extraction.text import CountVectorizer\n",
    "from sklearn.preprocessing import maxabs_scale\n",
    "from sklearn.linear_model import LogisticRegression\n",
    "import matplotlib.pyplot as plt\n",
    "%matplotlib inline"
   ]
  },
  {
   "cell_type": "code",
   "execution_count": 12,
   "metadata": {},
   "outputs": [],
   "source": [
    "# Preprocess data\n",
    "def preprocess(tweets):\n",
    "    REPLACE_NO_SPACE = re.compile(\"[.;:!\\'?,\\\"()\\[\\]]\")\n",
    "    REPLACE_USER = re.compile(\"@.+?\\s\")\n",
    "    tweets = [REPLACE_NO_SPACE.sub(\"\", line.lower()) for line in tweets]\n",
    "    tweets = [REPLACE_USER.sub(\"@_ \", line.lower()) for line in tweets]\n",
    "    return tweets"
   ]
  },
  {
   "cell_type": "code",
   "execution_count": 19,
   "metadata": {},
   "outputs": [],
   "source": [
    "def get_feats(tweets):\n",
    "    feats = cv.transform(tweets)\n",
    "    feats = maxabs_scale(feats)\n",
    "    return feats"
   ]
  },
  {
   "cell_type": "code",
   "execution_count": 15,
   "metadata": {},
   "outputs": [],
   "source": [
    "cv = pickle.load(open(\"vectorizer.p\", \"rb\"))\n",
    "final_model = pickle.load(open(\"model.p\", \"rb\"))"
   ]
  },
  {
   "cell_type": "code",
   "execution_count": 16,
   "metadata": {},
   "outputs": [],
   "source": [
    "# Load movie data\n",
    "movie_tweets = json.load(open(\"movie_data/movie_tweets_week_no_bots.json\", \"r\"))"
   ]
  },
  {
   "cell_type": "code",
   "execution_count": 17,
   "metadata": {},
   "outputs": [],
   "source": [
    "movie_scores = {}"
   ]
  },
  {
   "cell_type": "code",
   "execution_count": 20,
   "metadata": {},
   "outputs": [
    {
     "name": "stdout",
     "output_type": "stream",
     "text": [
      "Ad Astra 0.8525547445255475\n",
      "Angel Has Fallen 0.7612809315866085\n",
      "Avengers: Endgame 0.7870778267254038\n",
      "Birds of Prey 0.7630813953488372\n",
      "Coffee & Kareem 0.8998548621190131\n",
      "Detective Pikachu 0.7844574780058651\n",
      "Frozen II 0.677891654465593\n",
      "Gemini Man 0.8755555555555555\n",
      "Hobbs & Shaw 0.8798219584569733\n",
      "Jojo Rabbit 0.7630813953488372\n",
      "Klaus 0.7260869565217392\n",
      "Knives Out 0.7687861271676301\n",
      "Marriage Story 0.8819241982507289\n",
      "Queen & Slim 0.7341040462427746\n",
      "Spies in Disguise 0.9116766467065869\n",
      "The Irishman 0.7787481804949054\n",
      "The Two Popes 0.927437641723356\n",
      "Trolls World Tour 0.8125\n",
      "Uncut Gems 0.8175287356321839\n",
      "Vivarium 0.7979502196193266\n"
     ]
    }
   ],
   "source": [
    "# Get average sentiment for each movie\n",
    "for movie, data in sorted(movie_tweets.items(), key=lambda x:x[0]):\n",
    "    tweets = [tweet[\"text\"] for tweet in data]\n",
    "    feats = get_feats(tweets)\n",
    "    preds = final_model.predict(feats)\n",
    "    movie_scores[movie] = [np.mean(preds, axis=0), None, None]\n",
    "    print(movie, np.mean(preds, axis=0))"
   ]
  },
  {
   "cell_type": "code",
   "execution_count": 23,
   "metadata": {},
   "outputs": [],
   "source": [
    "with open(\"movie_data/movie_info.csv\", \"r\") as review_file:\n",
    "    review_reader = csv.reader(review_file)\n",
    "    next(review_reader)\n",
    "    for row in review_reader:\n",
    "        movie_scores[row[0]][1] = int(row[5])/100\n",
    "        movie_scores[row[0]][2] = int(row[4])/100"
   ]
  },
  {
   "cell_type": "code",
   "execution_count": 26,
   "metadata": {},
   "outputs": [
    {
     "name": "stdout",
     "output_type": "stream",
     "text": [
      "Correlation =  -0.31160488460842717\n",
      "p-value     =  0.18109360028630442\n"
     ]
    },
    {
     "data": {
      "image/png": "[encoded data removed]",
      "text/plain": [
       "<Figure size 432x288 with 1 Axes>"
      ]
     },
     "metadata": {
      "needs_background": "light"
     },
     "output_type": "display_data"
    }
   ],
   "source": [
    "x = [score[1] for score in movie_scores.values()]\n",
    "y = [score[0] for score in movie_scores.values()]\n",
    "corr, p = pearsonr(x, y)\n",
    "print(\"Correlation = \", corr)\n",
    "print(\"p-value     = \", p)\n",
    "plt.scatter(x, y)\n",
    "plt.xlabel(\"Audience Score\")\n",
    "plt.ylabel(\"Tweet Score\")\n",
    "plt.show()"
   ]
  },
  {
   "cell_type": "code",
   "execution_count": 27,
   "metadata": {},
   "outputs": [
    {
     "name": "stdout",
     "output_type": "stream",
     "text": [
      "Correlation =  -0.27093134246644945\n",
      "p-value     =  0.24792832091473613\n"
     ]
    },
    {
     "data": {
      "image/png": "[encoded data removed]",
      "text/plain": [
       "<Figure size 432x288 with 1 Axes>"
      ]
     },
     "metadata": {
      "needs_background": "light"
     },
     "output_type": "display_data"
    }
   ],
   "source": [
    "x = [score[2] for score in movie_scores.values()]\n",
    "y = [score[0] for score in movie_scores.values()]\n",
    "corr, p = pearsonr(x, y)\n",
    "print(\"Correlation = \", corr)\n",
    "print(\"p-value     = \", p)\n",
    "plt.scatter(x, y)\n",
    "plt.xlabel(\"Critic Score\")\n",
    "plt.ylabel(\"Tweet Score\")\n",
    "plt.show()"
   ]
  },
  {
   "cell_type": "code",
   "execution_count": null,
   "metadata": {},
   "outputs": [],
   "source": []
  }
 ],
 "metadata": {
  "kernelspec": {
   "display_name": "Python 3",
   "language": "python",
   "name": "python3"
  },
  "language_info": {
   "codemirror_mode": {
    "name": "ipython",
    "version": 3
   },
   "file_extension": ".py",
   "mimetype": "text/x-python",
   "name": "python",
   "nbconvert_exporter": "python",
   "pygments_lexer": "ipython3",
   "version": "3.7.0"
  }
 },
 "nbformat": 4,
 "nbformat_minor": 4
}
