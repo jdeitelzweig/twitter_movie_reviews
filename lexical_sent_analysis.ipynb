{
  "nbformat": 4,
  "nbformat_minor": 0,
  "metadata": {
    "colab": {
      "name": "lexical_sent_analysis.ipynb",
      "provenance": []
    },
    "kernelspec": {
      "name": "python3",
      "display_name": "Python 3"
    }
  },
  "cells": [
    {
      "cell_type": "code",
      "metadata": {
        "id": "Mf9x3Vte_RRo",
        "colab_type": "code",
        "outputId": "d47d64d9-bf16-4eea-e8ea-a471138f9fdd",
        "colab": {
          "base_uri": "https://localhost:8080/",
          "height": 357
        }
      },
      "source": [
        "import tweepy\n",
        "from textblob import TextBlob\n",
        "import numpy as np\n",
        "import GetOldTweets3 as got\n",
        "\n",
        "consumer_key = '952d5vU3eihumXUgehSYkxlKh'\n",
        "consumer_secret = 'l8X3cqGtQqNglBu5EVLqpFPwy322mveRqiWmIkIpB0QhR0SEjc'\n",
        "\n",
        "access_token = '1248707191642734593-FRBRE6vCEgh82aGdu1kaPi2bjKdtAY'\n",
        "access_token_secret = 'VAg80InmzPcxyCtSynAeLe8KPB3RS5EHlAn3ZFE6Mq2pl'\n",
        "\n",
        "auth = tweepy.OAuthHandler(consumer_key, consumer_secret)\n",
        "auth.set_access_token(access_token, access_token_secret)\n",
        "\n",
        "movies = [\"Detective Pikachu\", \"Gemini Man\", \"The Irishman\", \"Angel Has Fallen\",\n",
        "          \"Hobbs & Shaw\", \"Vivarium\", \"Birds of Prey\", \"Jojo Rabbit\",\n",
        "          \"Spies in Disguise\", \"Frozen II\", \"Uncut Gems\", \"Ad Astra\",\n",
        "          \"Klaus\", \"The Two Popes\", \"Marriage Story\", \"Avengers: Endgame\",\n",
        "          \"Trolls World Tour\", \"Coffee & Kareem\", \"Knives Out\", \"Queen & Slim\"]\n",
        "startdate = [\"2019-05-02\", \"2019-10-11\", \"2019-09-27\", \"2019-08-20\", \n",
        "             \"2019-08-02\", \"2020-03-27\", \"2020-02-07\", \"2019-11-08\",\n",
        "             \"2019-12-25\", \"2019-11-22\", \"2019-12-25\", \"2019-09-20\",\n",
        "             \"2019-11-08\", \"2019-11-27\", \"2019-08-29\", \"2019-04-26\",\n",
        "             \"2020-04-10\", \"2020-04-03\", \"2019-11-27\", \"2019-11-27\"]\n",
        "\n",
        "enddate = [\"2019-05-09\", \"2019-10-18\", \"2019-10-04\", \"2019-08-27\", \n",
        "             \"2019-08-09\", \"2020-04-03\", \"2020-02-14\", \"2019-11-15\",\n",
        "             \"2020-01-02\", \"2019-11-29\", \"2020-01-02\", \"2019-09-27\",\n",
        "             \"2019-11-15\", \"2019-12-03\", \"2019-09-05\", \"2019-05-02\",\n",
        "             \"2020-04-17\", \"2020-04-10\", \"2019-12-03\", \"2019-12-03\"]      \n",
        "\n",
        "api = tweepy.API(auth)\n",
        "\n",
        "k = 0\n",
        "for i in range(len(movies)):\n",
        "  tweetCriteria = got.manager.TweetCriteria().setQuerySearch(movies[i]).setSince(startdate[i]).setUntil(enddate[i]).setMaxTweets(100)\n",
        "  movtweets = got.manager.TweetManager.getTweets(tweetCriteria)\n",
        "  movie_polarity = np.zeros(100)\n",
        "  movie_subj = np.zeros(100)\n",
        "\n",
        "  for i in range(100):\n",
        "    analysis = TextBlob(movtweets[i].text)\n",
        "    movie_polarity[i] = analysis.sentiment.polarity\n",
        "    movie_subj[i] = analysis.sentiment.subjectivity\n",
        "\n",
        "  print(movies[k], \"( Polarity = \", (sum(movie_polarity)/len(movie_polarity)), \") ( Subjectivity = \", (sum(movie_subj)/len(movie_subj)), \")\")\n",
        "  k = k + 1"
      ],
      "execution_count": 37,
      "outputs": [
        {
          "output_type": "stream",
          "text": [
            "Detective Pikachu ( Polarity =  0.1336814551767677 ) ( Subjectivity =  0.30780265151515157 )\n",
            "Gemini Man ( Polarity =  0.01961720779220779 ) ( Subjectivity =  0.0829228354978355 )\n",
            "The Irishman ( Polarity =  0.08741128021284274 ) ( Subjectivity =  0.2527685305435305 )\n",
            "Angel Has Fallen ( Polarity =  0.1845106404012654 ) ( Subjectivity =  0.30145704156954156 )\n",
            "Hobbs & Shaw ( Polarity =  0.1301945592818639 ) ( Subjectivity =  0.32380254190254193 )\n",
            "Vivarium ( Polarity =  0.018114098124098116 ) ( Subjectivity =  0.1675945598845599 )\n",
            "Birds of Prey ( Polarity =  0.14041574675324675 ) ( Subjectivity =  0.2902767285954787 )\n",
            "Jojo Rabbit ( Polarity =  0.11368959836459841 ) ( Subjectivity =  0.38979736050986047 )\n",
            "Spies in Disguise ( Polarity =  0.1421216862502577 ) ( Subjectivity =  0.36476224747474745 )\n",
            "Frozen II ( Polarity =  0.09199598665223664 ) ( Subjectivity =  0.2274246031746032 )\n",
            "Uncut Gems ( Polarity =  -0.15707664930555554 ) ( Subjectivity =  0.6800232142857142 )\n",
            "Ad Astra ( Polarity =  0.06203913077663078 ) ( Subjectivity =  0.21967767880267877 )\n",
            "Klaus ( Polarity =  0.05787121212121213 ) ( Subjectivity =  0.1904780303030303 )\n",
            "The Two Popes ( Polarity =  0.1342553932178932 ) ( Subjectivity =  0.3123086159211158 )\n",
            "Marriage Story ( Polarity =  0.11107797619047616 ) ( Subjectivity =  0.34451679292929294 )\n",
            "Avengers: Endgame ( Polarity =  0.05878837444384317 ) ( Subjectivity =  0.255447144059644 )\n",
            "Trolls World Tour ( Polarity =  0.17156018142736895 ) ( Subjectivity =  0.2962866101491101 )\n",
            "Coffee & Kareem ( Polarity =  0.11152832792207791 ) ( Subjectivity =  0.4132588744588744 )\n",
            "Knives Out ( Polarity =  0.18115159632034633 ) ( Subjectivity =  0.3693706890331889 )\n",
            "Queen & Slim ( Polarity =  0.13398499278499273 ) ( Subjectivity =  0.31592867965367977 )\n"
          ],
          "name": "stdout"
        }
      ]
    }
  ]
}