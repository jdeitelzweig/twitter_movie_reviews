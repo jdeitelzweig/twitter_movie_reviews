{
  "nbformat": 4,
  "nbformat_minor": 0,
  "metadata": {
    "colab": {
      "name": "Untitled0.ipynb",
      "provenance": []
    },
    "kernelspec": {
      "name": "python3",
      "display_name": "Python 3"
    }
  },
  "cells": [
    {
      "cell_type": "code",
      "metadata": {
        "id": "Mf9x3Vte_RRo",
        "colab_type": "code",
        "colab": {
          "base_uri": "https://localhost:8080/",
          "height": 357
        },
        "outputId": "78a8187d-ec1c-4dbf-91ca-b94262735ffd"
      },
      "source": [
        "import tweepy\n",
        "from textblob import TextBlob\n",
        "import numpy as np\n",
        "\n",
        "\n",
        "consumer_key = '952d5vU3eihumXUgehSYkxlKh'\n",
        "consumer_secret = 'l8X3cqGtQqNglBu5EVLqpFPwy322mveRqiWmIkIpB0QhR0SEjc'\n",
        "\n",
        "access_token = '1248707191642734593-FRBRE6vCEgh82aGdu1kaPi2bjKdtAY'\n",
        "access_token_secret = 'VAg80InmzPcxyCtSynAeLe8KPB3RS5EHlAn3ZFE6Mq2pl'\n",
        "\n",
        "auth = tweepy.OAuthHandler(consumer_key, consumer_secret)\n",
        "auth.set_access_token(access_token, access_token_secret)\n",
        "\n",
        "movies = [\"Detective Pikachu\", \"Gemini Man\", \"The Irishman\", \"Angel Has Fallen\",\n",
        "          \"Hobbs & Shaw\", \"Vivarium\", \"Birds of Prey\", \"Jojo Rabbit\",\n",
        "          \"Spies in Disguise\", \"Frozen II\", \"Uncut Gems\", \"Ad Astra\",\n",
        "          \"Klaus\", \"The Two Popes\", \"Marriage Story\", \"Avengers: Endgame\",\n",
        "          \"Trolls World Tour\", \"Coffee & Kareem\", \"Knives Out\", \"Queen & Slim\"]\n",
        "\n",
        "api = tweepy.API(auth)\n",
        "\n",
        "for movie in movies:\n",
        "  movie_tweets = api.search(movie)\n",
        "  movie_polarity = np.zeros(len(movie_tweets))\n",
        "  movie_subj = np.zeros(len(movie_tweets))\n",
        "\n",
        "  for i in range(len(movie_tweets)):\n",
        "    analysis = TextBlob(movie_tweets[i].text)\n",
        "    movie_polarity[i] = analysis.sentiment.polarity\n",
        "    movie_subj[i] = analysis.sentiment.subjectivity\n",
        "\n",
        "  print(movie, \"( Polarity = \", (sum(movie_polarity)/len(movie_polarity)), \") ( Subjectivity = \", (sum(movie_subj)/len(movie_subj)), \")\")\n",
        "\n"
      ],
      "execution_count": 23,
      "outputs": [
        {
          "output_type": "stream",
          "text": [
            "Detective Pikachu ( Polarity =  0.010646464646464645 ) ( Subjectivity =  0.17385858585858585 )\n",
            "Gemini Man ( Polarity =  0.07703703703703704 ) ( Subjectivity =  0.35407407407407404 )\n",
            "The Irishman ( Polarity =  0.03833333333333334 ) ( Subjectivity =  0.1377777777777778 )\n",
            "Angel Has Fallen ( Polarity =  0.17444444444444446 ) ( Subjectivity =  0.2977777777777778 )\n",
            "Hobbs & Shaw ( Polarity =  0.13414502164502165 ) ( Subjectivity =  0.19523809523809524 )\n",
            "Vivarium ( Polarity =  -0.006243201243201257 ) ( Subjectivity =  0.3646581196581196 )\n",
            "Birds of Prey ( Polarity =  0.0005555555555555518 ) ( Subjectivity =  0.1361111111111111 )\n",
            "Jojo Rabbit ( Polarity =  0.0 ) ( Subjectivity =  0.0 )\n",
            "Spies in Disguise ( Polarity =  -0.013535353535353524 ) ( Subjectivity =  0.2566414141414141 )\n",
            "Frozen II ( Polarity =  -0.06270833333333334 ) ( Subjectivity =  0.3475308641975309 )\n",
            "Uncut Gems ( Polarity =  -0.2294871794871795 ) ( Subjectivity =  0.6217948717948718 )\n",
            "Ad Astra ( Polarity =  0.08910714285714286 ) ( Subjectivity =  0.3078571428571428 )\n",
            "Klaus ( Polarity =  0.06666666666666667 ) ( Subjectivity =  0.14333333333333334 )\n",
            "The Two Popes ( Polarity =  0.12119047619047621 ) ( Subjectivity =  0.32809523809523805 )\n",
            "Marriage Story ( Polarity =  0.06763227513227513 ) ( Subjectivity =  0.4282407407407407 )\n",
            "Avengers: Endgame ( Polarity =  0.03454545454545455 ) ( Subjectivity =  0.09181818181818181 )\n",
            "Trolls World Tour ( Polarity =  -0.010218855218855226 ) ( Subjectivity =  0.38078282828282833 )\n",
            "Coffee & Kareem ( Polarity =  0.038333333333333344 ) ( Subjectivity =  0.3288888888888889 )\n",
            "Knives Out ( Polarity =  0.20971444354256852 ) ( Subjectivity =  0.4333784271284271 )\n",
            "Queen & Slim ( Polarity =  0.09037037037037038 ) ( Subjectivity =  0.1785185185185185 )\n"
          ],
          "name": "stdout"
        }
      ]
    }
  ]
}