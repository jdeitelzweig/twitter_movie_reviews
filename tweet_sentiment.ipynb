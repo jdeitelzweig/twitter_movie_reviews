{
 "cells": [
  {
   "cell_type": "code",
   "execution_count": 8,
   "metadata": {},
   "outputs": [],
   "source": [
    "import csv\n",
    "import re\n",
    "import json\n",
    "import pickle\n",
    "import numpy as np\n",
    "from sklearn.linear_model import LogisticRegression\n",
    "from sklearn.svm import LinearSVC\n",
    "from sklearn.preprocessing import maxabs_scale\n",
    "from sklearn.metrics import accuracy_score\n",
    "from sklearn.model_selection import train_test_split\n",
    "from sklearn.feature_extraction.text import CountVectorizer, TfidfVectorizer"
   ]
  },
  {
   "cell_type": "code",
   "execution_count": 10,
   "metadata": {},
   "outputs": [],
   "source": [
    "# Read in train and test sets\n",
    "train_tweets = []\n",
    "train_scores = []\n",
    "with open(\"training_data/training.1600000.processed.noemoticon.csv\", \"r\") as train_file:\n",
    "    trainreader = csv.reader(train_file)\n",
    "    try:\n",
    "        for row in trainreader:\n",
    "            score = int(row[0])/4\n",
    "            if score != 0.5:\n",
    "                train_tweets.append(row[5])\n",
    "                train_scores.append(score)\n",
    "    except UnicodeDecodeError:\n",
    "        print(row)\n",
    "        \n",
    "test_tweets = []\n",
    "test_scores = []\n",
    "with open(\"training_data/testdata.manual.2009.06.14.csv\", \"r\") as test_file:\n",
    "    testreader = csv.reader(test_file)\n",
    "    try:\n",
    "        for row in testreader:\n",
    "            score = int(row[0])/4\n",
    "            if score != 0.5:\n",
    "                test_tweets.append(row[5])\n",
    "                test_scores.append(score)\n",
    "    except UnicodeDecodeError:\n",
    "        print(row)"
   ]
  },
  {
   "cell_type": "code",
   "execution_count": 11,
   "metadata": {},
   "outputs": [],
   "source": [
    "# Preprocess data\n",
    "def preprocess(tweets):\n",
    "    REPLACE_NO_SPACE = re.compile(\"[.;:!\\'?,\\\"()\\[\\]]\")\n",
    "    REPLACE_USER = re.compile(\"@.+?\\s\")\n",
    "    tweets = [REPLACE_NO_SPACE.sub(\"\", line.lower()) for line in tweets]\n",
    "    tweets = [REPLACE_USER.sub(\"@_ \", line.lower()) for line in tweets]\n",
    "    return tweets\n",
    "\n",
    "train_tweets = preprocess(train_tweets)\n",
    "test_tweets = preprocess(test_tweets)"
   ]
  },
  {
   "cell_type": "code",
   "execution_count": 12,
   "metadata": {},
   "outputs": [],
   "source": [
    "# Generate features from raw text\n",
    "cv = CountVectorizer(binary=True, ngram_range=(1,3))\n",
    "cv.fit(train_tweets)\n",
    "X = cv.transform(train_tweets)\n",
    "X_test = cv.transform(test_tweets)\n",
    "# Normalize data\n",
    "X_scale = maxabs_scale(X)\n",
    "X_test_scale = maxabs_scale(X_test)"
   ]
  },
  {
   "cell_type": "code",
   "execution_count": 13,
   "metadata": {},
   "outputs": [],
   "source": [
    "# Get training and validation sets\n",
    "X_train, X_val, y_train, y_val = train_test_split(\n",
    "    X, train_scores, train_size = 0.75\n",
    ")"
   ]
  },
  {
   "cell_type": "code",
   "execution_count": 15,
   "metadata": {},
   "outputs": [],
   "source": [
    "# Find hyperparameters\n",
    "tune = False\n",
    "if tune:\n",
    "    for c in [0.01, 0.05, 0.25, 0.5, 1]:\n",
    "        lr = LogisticRegression(C=c, solver=\"saga\")\n",
    "        lr.fit(X_train, y_train)\n",
    "        print (\"Accuracy for C=%s: %s\" \n",
    "               % (c, accuracy_score(y_val, lr.predict(X_val))))"
   ]
  },
  {
   "cell_type": "code",
   "execution_count": 14,
   "metadata": {},
   "outputs": [
    {
     "name": "stdout",
     "output_type": "stream",
     "text": [
      "Final Accuracy: 0.8523676880222841\n"
     ]
    }
   ],
   "source": [
    "# Train model with all data\n",
    "final_model = LogisticRegression(C=0.25, solver=\"saga\")\n",
    "final_model.fit(X, train_scores)\n",
    "print (\"Final Accuracy: %s\" \n",
    "       % accuracy_score(test_scores, final_model.predict(X_test)))"
   ]
  },
  {
   "cell_type": "code",
   "execution_count": 56,
   "metadata": {},
   "outputs": [],
   "source": [
    "pickle.dump(cv, open(\"vectorizer.p\", \"wb\"))\n",
    "pickle.dump(final_model, open(\"model.p\", \"wb\"))"
   ]
  }
 ],
 "metadata": {
  "kernelspec": {
   "display_name": "Python 3",
   "language": "python",
   "name": "python3"
  },
  "language_info": {
   "codemirror_mode": {
    "name": "ipython",
    "version": 3
   },
   "file_extension": ".py",
   "mimetype": "text/x-python",
   "name": "python",
   "nbconvert_exporter": "python",
   "pygments_lexer": "ipython3",
   "version": "3.7.0"
  }
 },
 "nbformat": 4,
 "nbformat_minor": 4
}
